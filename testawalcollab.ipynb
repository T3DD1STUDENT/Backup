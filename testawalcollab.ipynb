{
  "nbformat": 4,
  "nbformat_minor": 0,
  "metadata": {
    "colab": {
      "provenance": [],
      "authorship_tag": "ABX9TyO/GFnDI6nDOQAhibnJSg9e",
      "include_colab_link": true
    },
    "kernelspec": {
      "name": "python3",
      "display_name": "Python 3"
    },
    "language_info": {
      "name": "python"
    }
  },
  "cells": [
    {
      "cell_type": "markdown",
      "metadata": {
        "id": "view-in-github",
        "colab_type": "text"
      },
      "source": [
        "<a href=\"https://colab.research.google.com/github/T3DD1STUDENT/Backup/blob/main/testawalcollab.ipynb\" target=\"_parent\"><img src=\"https://colab.research.google.com/assets/colab-badge.svg\" alt=\"Open In Colab\"/></a>"
      ]
    },
    {
      "cell_type": "markdown",
      "source": [
        "#Liblares"
      ],
      "metadata": {
        "id": "2BC5Nxk6m-eo"
      }
    },
    {
      "cell_type": "code",
      "execution_count": 6,
      "metadata": {
        "id": "uemMVkd3jYkf"
      },
      "outputs": [],
      "source": [
        "import os , time\n"
      ]
    },
    {
      "cell_type": "markdown",
      "source": [
        "#**Variable**\n",
        "\n"
      ],
      "metadata": {
        "id": "-wICOSPFnCYM"
      }
    },
    {
      "cell_type": "code",
      "source": [],
      "metadata": {
        "id": "z0gl9jCynUxy"
      },
      "execution_count": null,
      "outputs": []
    },
    {
      "cell_type": "markdown",
      "source": [
        "#Funksion"
      ],
      "metadata": {
        "id": "wVStmB1KnXmW"
      }
    },
    {
      "cell_type": "code",
      "source": [
        "def hapus(text,second):\n",
        "    os.system('cls' if os.name == 'nt' else 'clear')\n",
        "    for i in range(second):\n",
        "        for j in range(4):\n",
        "            print(f\"{text}{'.'*j}\")\n",
        "            time.sleep(0.5)\n",
        "            os.system('cls' if os.name == 'nt' else 'clear')\n"
      ],
      "metadata": {
        "id": "HtHl07CFnah0"
      },
      "execution_count": 7,
      "outputs": []
    },
    {
      "cell_type": "code",
      "source": [
        "hapus(\"So Handsome\",10)"
      ],
      "metadata": {
        "id": "pXg7pG2En1Cc",
        "outputId": "98824902-abe7-4190-a240-b811b56f81a2",
        "colab": {
          "base_uri": "https://localhost:8080/"
        }
      },
      "execution_count": 8,
      "outputs": [
        {
          "output_type": "stream",
          "name": "stdout",
          "text": [
            "So Handsome\n",
            "So Handsome.\n",
            "So Handsome..\n",
            "So Handsome...\n",
            "So Handsome\n",
            "So Handsome.\n",
            "So Handsome..\n",
            "So Handsome...\n",
            "So Handsome\n",
            "So Handsome.\n",
            "So Handsome..\n",
            "So Handsome...\n",
            "So Handsome\n",
            "So Handsome.\n",
            "So Handsome..\n",
            "So Handsome...\n",
            "So Handsome\n",
            "So Handsome.\n",
            "So Handsome..\n",
            "So Handsome...\n",
            "So Handsome\n",
            "So Handsome.\n",
            "So Handsome..\n",
            "So Handsome...\n",
            "So Handsome\n",
            "So Handsome.\n",
            "So Handsome..\n",
            "So Handsome...\n",
            "So Handsome\n",
            "So Handsome.\n",
            "So Handsome..\n",
            "So Handsome...\n",
            "So Handsome\n",
            "So Handsome.\n",
            "So Handsome..\n",
            "So Handsome...\n",
            "So Handsome\n",
            "So Handsome.\n",
            "So Handsome..\n",
            "So Handsome...\n"
          ]
        }
      ]
    }
  ]
}